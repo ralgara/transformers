{
 "cells": [
  {
   "cell_type": "code",
   "execution_count": 16,
   "id": "c7b77b1e-ebc7-4a2a-8374-950d1f372df8",
   "metadata": {},
   "outputs": [
    {
     "name": "stdout",
     "output_type": "stream",
     "text": [
      "Note: you may need to restart the kernel to use updated packages.\n"
     ]
    }
   ],
   "source": [
    "%pip install \\\n",
    "    datasets --quiet\n",
    "\n",
    "from datasets import load_dataset"
   ]
  },
  {
   "cell_type": "code",
   "execution_count": 35,
   "id": "1cd30f83-a06f-4b90-8a5b-0401f9032fbd",
   "metadata": {
    "tags": []
   },
   "outputs": [
    {
     "name": "stderr",
     "output_type": "stream",
     "text": [
      "No config specified, defaulting to: air_dialogue/air_dialogue_data\n",
      "Found cached dataset air_dialogue (/Users/ralgara/.cache/huggingface/datasets/air_dialogue/air_dialogue_data/1.1.0/38932dc01f4fbf071a129beb7c4afd0982306ab8bc7c994f050467014df5e4a5)\n",
      "100%|██████████| 2/2 [00:00<00:00, 87.65it/s]\n",
      "Found cached dataset tweet_eval (/Users/ralgara/.cache/huggingface/datasets/tweet_eval/emoji/1.1.0/12aee5282b8784f3e95459466db4cdf45c6bf49719c25cdb0743d71ed0410343)\n",
      "100%|██████████| 3/3 [00:00<00:00, 616.66it/s]\n",
      "No config specified, defaulting to: amazon_reviews_multi/all_languages\n",
      "Found cached dataset amazon_reviews_multi (/Users/ralgara/.cache/huggingface/datasets/amazon_reviews_multi/all_languages/1.0.0/724e94f4b0c6c405ce7e476a6c5ef4f87db30799ad49f765094cf9770e0f7609)\n",
      "100%|██████████| 3/3 [00:00<00:00, 103.67it/s]\n"
     ]
    }
   ],
   "source": [
    "datasets = {\n",
    "    'dialog': load_dataset('air_dialogue'),\n",
    "    'tweets': load_dataset('tweet_eval', 'emoji'),\n",
    "    'reviews': load_dataset('amazon_reviews_multi'),\n",
    "    # wikipedia set is very large - setting to streaming to load only on demand\n",
    "    'wikipedia': load_dataset(\"google/wit\", streaming=True)\n",
    "}\n",
    "    \n"
   ]
  },
  {
   "cell_type": "code",
   "execution_count": 36,
   "id": "f10e08b6-2cf8-41a6-837c-54fb92b119a3",
   "metadata": {},
   "outputs": [
    {
     "data": {
      "text/plain": [
       "dict_keys(['dialog', 'tweets', 'reviews', 'wikipedia'])"
      ]
     },
     "execution_count": 36,
     "metadata": {},
     "output_type": "execute_result"
    }
   ],
   "source": [
    "datasets.keys()"
   ]
  },
  {
   "cell_type": "code",
   "execution_count": 48,
   "id": "c1a4bcdb-8784-4db5-a2e7-461f5a3f9cae",
   "metadata": {},
   "outputs": [
    {
     "data": {
      "text/plain": [
       "dict_keys(['action', 'intent', 'timestamps', 'dialogue', 'expected_action', 'search_info', 'correct_sample'])"
      ]
     },
     "execution_count": 48,
     "metadata": {},
     "output_type": "execute_result"
    }
   ],
   "source": [
    "datasets['dialog']['train'][0].keys()"
   ]
  },
  {
   "cell_type": "code",
   "execution_count": 50,
   "id": "1b1463e8-ca26-4898-ac6c-9c5d58631b8c",
   "metadata": {},
   "outputs": [
    {
     "name": "stdout",
     "output_type": "stream",
     "text": [
      "['customer: Hello.', 'agent: Hello. How may I help you?', 'customer: Can you help me to change my recent reservation because my trip dates are got postponed?', 'agent: I will help you with that please share your name to proceed further?', 'customer: Edward hall here.', 'agent: Please wait for a while.', 'customer: Sure, take your own time.', 'agent: There is no active reservation found under your name to amend it.', \"customer: That's ok, thank you for checking.\", 'agent: Thank you for choosing us.']\n"
     ]
    }
   ],
   "source": [
    "for s in datasets['dialog']['train']:\n",
    "    print(s['dialogue'])\n",
    "    break"
   ]
  },
  {
   "cell_type": "code",
   "execution_count": 57,
   "id": "aa0f9987-736a-41c7-95ec-62781fc96440",
   "metadata": {},
   "outputs": [],
   "source": [
    "participants = [\n",
    "    {\n",
    "        \"participant_id\": 1,\n",
    "        \"type\": \"AGENT\",\n",
    "        \"gender\": \"FEMALE\",\n",
    "        \"is_bot\": False\n",
    "    },\n",
    "    {\n",
    "        \"participant_id\": 2,\n",
    "        \"type\": \"CLIENT\",\n",
    "        \"gender\": \"MALE\",\n",
    "        \"is_bot\": False\n",
    "    }\n",
    "]\n",
    "\n",
    "segments = [\n",
    "    {\n",
    "        \"participant_id\": 1,\n",
    "        \"text\": \"Hello, this is Sara\",\n",
    "        \"start\": 390,\n",
    "        \"end\": 1400\n",
    "    },\n",
    "    {\n",
    "        \"participant_id\": 1,\n",
    "        \"text\": \"I am calling to make a purchase\",\n",
    "        \"start\": 1510,\n",
    "        \"end\": 2009\n",
    "    }\n",
    "]\n",
    "\n",
    "template = {\n",
    "    \"project_id\": None,\n",
    "    \"document\": {\n",
    "        \"natural_id\": None,\n",
    "        \"source\": \"huggingface-den\",\n",
    "        \"document_date\": None,\n",
    "        \"language\": \"en\",\n",
    "        \"attributes\": {\n",
    "            \"airport\": \"IAD\",\n",
    "            \"airline\": \"AA\"\n",
    "        },\n",
    "        \"verbatims\": [\n",
    "            {\n",
    "                \"call\": {\n",
    "                    \"verbatim_types\": [\n",
    "                        \"agentverbatim\",\n",
    "                        \"clientverbatim\"\n",
    "                    ],\n",
    "                    \"body\": {\n",
    "                        \"duration\": None,\n",
    "                        \"total_silence\": None,\n",
    "                        \"total_dead_air\": None,\n",
    "                        \"total_overtalk\": None,\n",
    "                        \"total_hesitation\": None,\n",
    "                        \"percent_silence\": 25.0,\n",
    "                        \"source_system\": \"source?\",\n",
    "                        \"special_events\": [\n",
    "                            {\n",
    "                                \"type\": \"HOLD\",\n",
    "                                \"start\": 9020,\n",
    "                                \"end\": 13010\n",
    "                            }\n",
    "                        ],\n",
    "                        \"participants\": participants,\n",
    "                        \"segment_type\": \"SENTENCE\",\n",
    "                        \"segments\": segments\n",
    "                    }\n",
    "                },\n",
    "                \"all_relations\": True,\n",
    "                \"reason_enabled\": True\n",
    "            }\n",
    "        ]\n",
    "    }\n",
    "}"
   ]
  },
  {
   "cell_type": "code",
   "execution_count": 83,
   "id": "dd6079e8-d37e-47f0-9055-e53bdd7f33c7",
   "metadata": {},
   "outputs": [
    {
     "data": {
      "text/plain": [
       "{'project_id': None,\n",
       " 'document': {'natural_id': None,\n",
       "  'source': 'huggingface-den',\n",
       "  'document_date': None,\n",
       "  'language': 'en',\n",
       "  'attributes': {'carrier': 'Postman', 'caller': 'Mac'},\n",
       "  'verbatims': [{'call': {'verbatim_types': ['agentverbatim',\n",
       "      'clientverbatim'],\n",
       "     'body': {'duration': None,\n",
       "      'total_silence': None,\n",
       "      'total_dead_air': None,\n",
       "      'total_overtalk': None,\n",
       "      'total_hesitation': None,\n",
       "      'percent_silence': 25.0,\n",
       "      'source_system': 'source?',\n",
       "      'special_events': [{'type': 'HOLD', 'start': 9020, 'end': 13010}],\n",
       "      'participants': [{'participant_id': 1,\n",
       "        'type': 'AGENT',\n",
       "        'gender': 'FEMALE',\n",
       "        'is_bot': False},\n",
       "       {'participant_id': 2,\n",
       "        'type': 'CLIENT',\n",
       "        'gender': 'MALE',\n",
       "        'is_bot': False}],\n",
       "      'segment_type': 'SENTENCE',\n",
       "      'segments': [{'participant_id': 1,\n",
       "        'text': 'customer: Hello.',\n",
       "        'start': 0,\n",
       "        'end': 16},\n",
       "       {'participant_id': 2,\n",
       "        'text': 'agent: Hello. How may I help you?',\n",
       "        'start': 13,\n",
       "        'end': 46},\n",
       "       {'participant_id': 1,\n",
       "        'text': 'customer: Can you help me to change my recent reservation because my trip dates are got postponed?',\n",
       "        'start': 28,\n",
       "        'end': 126},\n",
       "       {'participant_id': 2,\n",
       "        'text': 'agent: I will help you with that please share your name to proceed further?',\n",
       "        'start': 51,\n",
       "        'end': 126},\n",
       "       {'participant_id': 1,\n",
       "        'text': 'customer: Edward hall here.',\n",
       "        'start': 56,\n",
       "        'end': 83},\n",
       "       {'participant_id': 2,\n",
       "        'text': 'agent: Please wait for a while.',\n",
       "        'start': 75,\n",
       "        'end': 106},\n",
       "       {'participant_id': 1,\n",
       "        'text': 'customer: Sure, take your own time.',\n",
       "        'start': 86,\n",
       "        'end': 121},\n",
       "       {'participant_id': 2,\n",
       "        'text': 'agent: There is no active reservation found under your name to amend it.',\n",
       "        'start': 122,\n",
       "        'end': 194},\n",
       "       {'participant_id': 1,\n",
       "        'text': \"customer: That's ok, thank you for checking.\",\n",
       "        'start': 135,\n",
       "        'end': 179},\n",
       "       {'participant_id': 2,\n",
       "        'text': 'agent: Thank you for choosing us.',\n",
       "        'start': 160,\n",
       "        'end': 193}]}},\n",
       "    'all_relations': True,\n",
       "    'reason_enabled': True}]}}"
      ]
     },
     "execution_count": 83,
     "metadata": {},
     "output_type": "execute_result"
    }
   ],
   "source": [
    "import re\n",
    "\n",
    "def generate_doc():\n",
    "    for s in datasets['dialog']['train']:\n",
    "        doc = template\n",
    "        segments = []\n",
    "        ts = s['timestamps']\n",
    "        ts0 = ts[0]\n",
    "        for i, turn in enumerate(s['dialogue']):\n",
    "            participant, sentence = re.compile(\"(^[a-z]+:) (.*)\").match(turn).groups()\n",
    "            out = {\n",
    "                \"participant_id\": (i % 2) + 1,\n",
    "                \"text\": turn,\n",
    "                \"start\": ts[i] - ts0,\n",
    "                \"end\": ts[i] - ts0 + len(turn)\n",
    "            }\n",
    "            segments.append(out)\n",
    "        doc['document']['verbatims'][0]['call']['body']['segments'] = segments\n",
    "        return doc\n",
    "    \n",
    "generate_doc()"
   ]
  }
 ],
 "metadata": {
  "kernelspec": {
   "display_name": "Python 3 (ipykernel)",
   "language": "python",
   "name": "python3"
  },
  "language_info": {
   "codemirror_mode": {
    "name": "ipython",
    "version": 3
   },
   "file_extension": ".py",
   "mimetype": "text/x-python",
   "name": "python",
   "nbconvert_exporter": "python",
   "pygments_lexer": "ipython3",
   "version": "3.9.6"
  }
 },
 "nbformat": 4,
 "nbformat_minor": 5
}
